{
 "cells": [
  {
   "cell_type": "markdown",
   "id": "e2ad20ef",
   "metadata": {},
   "source": [
    "Collaborative coding using GitHub\n",
    "===========\n",
    "\n",
    "Alexandre Perera Luna, Mónica Rojas Martínez\n",
    "\n",
    "December 15th 2023\n"
   ]
  },
  {
   "cell_type": "markdown",
   "id": "9f9faf46",
   "metadata": {},
   "source": [
    "# Goal\n",
    "\n",
    "The objective of this assignment is to construct a project through collaborative coding, showcasing an Exploratory Data Analysis (EDA) and a classification. To facilitate your understanding of GitHub, we will utilize code snippets from previous exercises, allowing you to focus on the process without concerns about the final outcome. The current notebook will serve as the main function in the project, and each participant is required to develop additional components and integrate their contributions into the main branch.\n",
    "\n",
    "\n",
    "## Requirements\n",
    "\n",
    "In order to work with functions created in other jupyter notebooks you need to install the package `nbimporter` using a shell and the following command:\n",
    "\n",
    "<font color='grey'>pip install nbimporter</font> \n",
    "\n",
    "`nbimporter` allows you to import jupyter notebooks as modules. Once intalled and imported, you can use a command like the following to import a function called *fibonacci* that is stored on a notebook *fibbo_func* in the same path as the present notebook:\n",
    "\n",
    "<font color='green'>from</font> fibbo_func <font color='green'>import</font> fibbonaci  <font color='green'>as</font> fibbo\n",
    "\n"
   ]
  },
  {
   "cell_type": "code",
   "execution_count": 3,
   "id": "eccb4045",
   "metadata": {},
   "outputs": [
    {
     "name": "stdout",
     "output_type": "stream",
     "text": [
      "Defaulting to user installation because normal site-packages is not writeable\n",
      "Collecting nbimporter\n",
      "  Downloading nbimporter-0.3.4-py3-none-any.whl (4.9 kB)\n",
      "Installing collected packages: nbimporter\n",
      "Successfully installed nbimporter-0.3.4\n",
      "\n",
      "\u001b[1m[\u001b[0m\u001b[34;49mnotice\u001b[0m\u001b[1;39;49m]\u001b[0m\u001b[39;49m A new release of pip is available: \u001b[0m\u001b[31;49m23.2.1\u001b[0m\u001b[39;49m -> \u001b[0m\u001b[32;49m23.3.2\u001b[0m\n",
      "\u001b[1m[\u001b[0m\u001b[34;49mnotice\u001b[0m\u001b[1;39;49m]\u001b[0m\u001b[39;49m To update, run: \u001b[0m\u001b[32;49m/Library/Developer/CommandLineTools/usr/bin/python3 -m pip install --upgrade pip\u001b[0m\n"
     ]
    }
   ],
   "source": [
    "## Modify this cell by importing all the necessary modules you need to solve the assigmnent. Observe that we are importing\n",
    "## the library nbimporter. You will need it for calling fuctions created in other notebooks. \n",
    "!pip install nbimporter\n",
    "import nbimporter\n",
    "import pandas as pd\n",
    "\n"
   ]
  },
  {
   "cell_type": "code",
   "execution_count": 12,
   "id": "78a064a3",
   "metadata": {},
   "outputs": [
    {
     "data": {
      "text/plain": [
       "46368"
      ]
     },
     "execution_count": 12,
     "metadata": {},
     "output_type": "execute_result"
    }
   ],
   "source": [
    "# Here is an example of invoking the Fibonacci function, whisch should be located in the same directory as the main:\n",
    "from fibbo_func import fibbonaci as fibbo\n",
    "fibbo(24)"
   ]
  },
  {
   "cell_type": "markdown",
   "id": "4fb6f6b0",
   "metadata": {},
   "source": [
    "## Exercises\n",
    "As an illustration of Git workflow, you will analyze the *Parkinson's* dataset, which has been previously examined in past assignments. Each team member has specific responsibilities that may be crucial for the progress of others. Make sure all of you organize your tasks accordingly. We've structured the analysis into modules to assist you in tracking your tasks, but feel free to deviate from it if you prefer.   \n",
    "Please use Markdown cells for describing your workflow and expalining the findings of your work. \n",
    "Remember you need both, to modify this notebook and, to create additional functions outside. Your work will only be available for others when you modify and merge your changes.\n"
   ]
  },
  {
   "cell_type": "code",
   "execution_count": 12,
   "id": "8f8690e3",
   "metadata": {},
   "outputs": [
    {
     "data": {
      "text/plain": [
       "Index(['name', 'MDVP:Fo(Hz)', 'MDVP:Fhi(Hz)', 'MDVP:Flo(Hz)', 'MDVP:Jitter(%)',\n",
       "       'MDVP:Jitter(Abs)', 'MDVP:RAP', 'MDVP:PPQ', 'Jitter:DDP',\n",
       "       'MDVP:Shimmer', 'MDVP:Shimmer(dB)', 'Shimmer:APQ3', 'Shimmer:APQ5',\n",
       "       'MDVP:APQ', 'Shimmer:DDA', 'NHR', 'HNR', 'status', 'RPDE', 'DFA',\n",
       "       'spread1', 'spread2', 'D2', 'PPE'],\n",
       "      dtype='object')"
      ]
     },
     "execution_count": 12,
     "metadata": {},
     "output_type": "execute_result"
    }
   ],
   "source": [
    "# We will start by loading the parkinson dataset. The rest is up to you!\n",
    "df = pd.read_csv('parkinsons.data', \n",
    "                 dtype = { # indicate categorical variables\n",
    "                     'status': 'category'})\n",
    "df.head(5)\n",
    "df.columns"
   ]
  },
  {
   "cell_type": "markdown",
   "id": "9c433fda",
   "metadata": {},
   "source": [
    "### 1. Cleaning and tidying the dataset"
   ]
  },
  {
   "cell_type": "code",
   "execution_count": 13,
   "id": "b34465cd",
   "metadata": {},
   "outputs": [
    {
     "data": {
      "text/plain": [
       "Index(['name', 'avFF', 'maxFF', 'minFF', 'percJitter', 'absJitter', 'rap',\n",
       "       'ppq', 'ddp', 'lShimer', 'dbShimer', 'apq3', 'apq5', 'apq', 'dda',\n",
       "       'NHR', 'HNR', 'status', 'RPDE', 'DFA', 'spread1', 'spread2', 'D2',\n",
       "       'PPE'],\n",
       "      dtype='object')"
      ]
     },
     "execution_count": 13,
     "metadata": {},
     "output_type": "execute_result"
    }
   ],
   "source": [
    "# your code here\n",
    "dict_names = {'MDVP:Fo(Hz)':'avFF',\n",
    "              'MDVP:Fhi(Hz)':'maxFF', \n",
    "              'MDVP:Flo(Hz)':'minFF',\n",
    "              'MDVP:Jitter(%)': 'percJitter',\n",
    "              'MDVP:Jitter(Abs)':'absJitter' ,\n",
    "              'MDVP:RAP': 'rap',\n",
    "              'MDVP:PPQ': 'ppq',\n",
    "              'Jitter:DDP': 'ddp',\n",
    "              'MDVP:Shimmer' : 'lShimer',\n",
    "              'MDVP:Shimmer(dB)': 'dbShimer',\n",
    "              'Shimmer:APQ3':'apq3',\n",
    "              'Shimmer:APQ5': 'apq5',\n",
    "              'MDVP:APQ':'apq',\n",
    "              'Shimmer:DDA':'dda'}\n",
    "\n",
    "def renamevars(df, dict_names):\n",
    "    renamed_df = df.copy()\n",
    "    renamed_df.columns = [dict_names[col] if col in dict_names else col for col in df.columns] \n",
    "    return renamed_df\n",
    "\n",
    "renamed_df = renamevars(df, dict_names)\n",
    "renamed_df.columns"
   ]
  },
  {
   "cell_type": "markdown",
   "id": "617353cb",
   "metadata": {},
   "source": [
    "### 2. Basic EDA based on plots and descriptive statistics"
   ]
  },
  {
   "cell_type": "code",
   "execution_count": null,
   "id": "5e44f3a7",
   "metadata": {},
   "outputs": [],
   "source": [
    "# your code here"
   ]
  },
  {
   "cell_type": "markdown",
   "id": "9d38d201",
   "metadata": {},
   "source": [
    "### 3. Aggregating and transforming variables in the dataset"
   ]
  },
  {
   "cell_type": "code",
   "execution_count": null,
   "id": "03f75ef3",
   "metadata": {},
   "outputs": [],
   "source": [
    "# your code here"
   ]
  },
  {
   "cell_type": "markdown",
   "id": "4d095e42",
   "metadata": {},
   "source": [
    "### 4. Differentiating between controls (healthy subjects) and patients"
   ]
  },
  {
   "cell_type": "code",
   "execution_count": null,
   "id": "4cca1492",
   "metadata": {},
   "outputs": [],
   "source": [
    "# your code here"
   ]
  }
 ],
 "metadata": {
  "kernelspec": {
   "display_name": "Python 3 (ipykernel)",
   "language": "python",
   "name": "python3"
  },
  "language_info": {
   "codemirror_mode": {
    "name": "ipython",
    "version": 3
   },
   "file_extension": ".py",
   "mimetype": "text/x-python",
   "name": "python",
   "nbconvert_exporter": "python",
   "pygments_lexer": "ipython3",
   "version": "3.9.6"
  }
 },
 "nbformat": 4,
 "nbformat_minor": 5
}
